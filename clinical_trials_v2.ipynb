{
 "cells": [
  {
   "cell_type": "markdown",
   "metadata": {},
   "source": [
    "#### To contribute to the question-answering, create a tool using the pre-screen form and use it in addition to the current tool (created from OnCore data) and use both with the agent to supplement QA"
   ]
  },
  {
   "cell_type": "code",
   "execution_count": 6,
   "metadata": {},
   "outputs": [],
   "source": [
    "import os\n",
    "import streamlit as st\n",
    "import pandas as pd\n",
    "from langchain.agents import create_pandas_dataframe_agent\n",
    "from langchain.llms import OpenAI\n",
    "from langchain.document_loaders import UnstructuredXMLLoader\n",
    "from langchain.document_loaders import PyPDFLoader\n",
    "from langchain.document_loaders.csv_loader import CSVLoader\n",
    "from langchain.embeddings.openai import OpenAIEmbeddings\n",
    "from langchain.chat_models import ChatOpenAI\n",
    "from langchain.chains import ConversationalRetrievalChain\n",
    "from langchain.vectorstores import FAISS\n",
    "from langchain.text_splitter import RecursiveCharacterTextSplitter\n",
    "from langchain.chains.summarize import load_summarize_chain\n",
    "from langchain import PromptTemplate\n",
    "from langchain.agents.agent_toolkits import create_retriever_tool\n",
    "from langchain.agents.agent_toolkits import create_conversational_retrieval_agent\n",
    "from langchain.agents.agent_toolkits import create_conversational_retrieval_agent\n",
    "from langchain.callbacks import StreamingStdOutCallbackHandler"
   ]
  },
  {
   "cell_type": "code",
   "execution_count": 2,
   "metadata": {},
   "outputs": [],
   "source": [
    "embeddings = OpenAIEmbeddings()\n",
    "trials_search = FAISS.load_local(\"faiss_embeddings\", embeddings)"
   ]
  },
  {
   "cell_type": "code",
   "execution_count": 3,
   "metadata": {},
   "outputs": [],
   "source": [
    "loader = PyPDFLoader('./pre_screen.pdf')\n",
    "pre_screen_docs = loader.load()"
   ]
  },
  {
   "cell_type": "code",
   "execution_count": 4,
   "metadata": {},
   "outputs": [],
   "source": [
    "pre_screen_vectordb = FAISS.from_documents(pre_screen_docs, embeddings)"
   ]
  },
  {
   "cell_type": "code",
   "execution_count": 30,
   "metadata": {},
   "outputs": [],
   "source": [
    "trials_tool = create_retriever_tool(\n",
    "    trials_search.as_retriever(), \n",
    "    \"search_clinical_trials_database\",\n",
    "    \"Searches and returns documents regarding clinical trials\"\n",
    ")\n",
    "pre_screen_tool = create_retriever_tool(\n",
    "    pre_screen_vectordb.as_retriever(), \n",
    "    \"template_to_search_for_trials\",\n",
    "    \"Can be used to understand what questions patients ask\"\n",
    ")\n",
    "tools = [trials_tool, pre_screen_tool]"
   ]
  },
  {
   "cell_type": "code",
   "execution_count": 31,
   "metadata": {},
   "outputs": [],
   "source": [
    "llm = ChatOpenAI(temperature = 0, \n",
    "                 model_name=\"gpt-3.5-turbo\",\n",
    "                 streaming=True, callbacks=[StreamingStdOutCallbackHandler()])\n",
    "agent_executor = create_conversational_retrieval_agent(llm, tools )"
   ]
  },
  {
   "cell_type": "code",
   "execution_count": 32,
   "metadata": {},
   "outputs": [
    {
     "name": "stdout",
     "output_type": "stream",
     "text": [
      "Here are some clinical trials related to blood cancer:\n",
      "\n",
      "1. Title: A Study to Evaluate Long-Term Safety of CAR-T Cell Therapy in Patients with Hematologic Malignancies\n",
      "   - Investigator: Susan O'Brien\n",
      "   - Status: Open to accrual\n",
      "   - Description: This is a non-interventional, long-term safety study of allogeneic CAR-T cell therapy in patients with hematologic malignancies. The purpose is to collect long-term observational data to identify and understand potential late side effects in patients who have received CAR-T cell therapies.\n",
      "   - Phase: I\n",
      "   - Treatment Type: Other\n",
      "   - Disease Sites: Multiple Myeloma, Non-Hodgkin's Lymphoma, Hodgkin's Lymphoma, Lymphoid Leukemia, Myeloid and Monocytic Leukemia, Other Hematopoietic Leukemia\n",
      "   - Sponsor: Caribou Biosciences, Inc.\n",
      "\n",
      "2. Title: Blood Collection Protocol for the Analysis of Exosomes in Patients with Breast Cancer\n",
      "   - Investigator: Ritesh Parajuli\n",
      "   - Status: Open to accrual\n",
      "   - Description: The purpose of this research study is to determine a group of particles in the blood called exosomes that may be associated with response to treatment or could predict recurrence and side effects in patients with breast cancer.\n",
      "   - Treatment Type: Basic Science\n",
      "   - Disease Sites: Breast\n",
      "   - Sponsor: UCI, Hitachi Chemical Research Center\n",
      "\n",
      "3. Title: Prospective Study to Assess the Role of Plasma Exosomal Gene Signature and PD-L1 Expression to Predict Response to Treatment in Solid Organ Malignancies\n",
      "   - Investigator: Maheswari Senthil\n",
      "   - Status: Open to accrual\n",
      "   - Description: This is a phase 2 prospective study to evaluate a blood test from patients with solid organ malignancies to predict response to treatment.\n",
      "   - Treatment Type: Basic Science\n",
      "   - Disease Sites: Melanoma, Skin, Rectum, Lung, Stomach, Colon, Kidney, Liver\n",
      "   - Sponsor: UCI\n",
      "\n",
      "4. Title: OPtimal Treatment by Invoking Biologic Clusters in Renal Cell Carcinoma (OPTIC RCC)\n",
      "   - Investigator: Nataliya Mar\n",
      "   - Status: IRB Initial Approval\n",
      "   - Description: This phase II trial tests whether using genetic testing of tumor tissue to select the optimal treatment regimen works in treating patients with clear cell renal cell (kidney) cancer that has spread to other places in the body. The purpose is to learn if genetic testing of tumor tissue may help doctors select the optimal treatment regimen to which advanced kidney cancer is more likely to respond.\n",
      "   - Phase: II\n",
      "   - Treatment Type: Treatment\n",
      "   - Disease Sites: Kidney\n",
      "   - Sponsor: Vanderbilt University Medical Center\n",
      "\n",
      "Please note that the information provided is based on the available clinical trial database and may not be exhaustive. It is recommended to consult with healthcare professionals or visit clinical trial websites for more detailed and up-to-date information on specific trials."
     ]
    }
   ],
   "source": [
    "res = agent_executor ({\"input\": \"trials for blood cancer\"})['output']"
   ]
  },
  {
   "cell_type": "code",
   "execution_count": 33,
   "metadata": {},
   "outputs": [
    {
     "name": "stdout",
     "output_type": "stream",
     "text": [
      "The eligibility criteria for Trial 2, \"Blood Collection Protocol for the Analysis of Exosomes in Patients with Breast Cancer,\" are as follows:\n",
      "\n",
      "Inclusion Criteria:\n",
      "- Female participants\n",
      "- Over the age of 18\n",
      "- Ability to understand and willingness to sign a written informed consent document\n",
      "- Consent to be in the study, signed and dated an approved consent form, which conforms to federal and institutional guidelines\n",
      "- Breast cancer patients with Stage I, Stage II, Stage III, or Stage IV\n",
      "- Breast cancer patients with hormone Receptor +, Her-2 receptor positive, triple positive, or triple negative breast cancer\n",
      "\n",
      "Exclusion Criteria:\n",
      "- Physically or mentally incapable of giving verbal or written consent\n",
      "- Other active cancers except for cured skin and in situ cervical cancer for cancer patients\n",
      "- History of cancer diagnosis or prior exposure to chemotherapy agents for non-cancer participants\n",
      "\n",
      "Please note that this is a summary of the eligibility criteria, and it is recommended to consult with the study team for a complete list of eligibility criteria and to determine if you qualify for participation in the study."
     ]
    }
   ],
   "source": [
    "res = agent_executor({\"input\": \"eligibility criteria for trial 2\"})['output']"
   ]
  },
  {
   "cell_type": "code",
   "execution_count": 34,
   "metadata": {},
   "outputs": [
    {
     "name": "stdout",
     "output_type": "stream",
     "text": [
      "When searching for a clinical trial, there are several considerations to keep in mind:\n",
      "\n",
      "1. Eligibility Criteria: Each clinical trial has specific eligibility criteria that determine who can participate. Consider whether you meet the age, gender, health status, and other requirements specified in the trial.\n",
      "\n",
      "2. Purpose and Objectives: Understand the purpose of the trial and its objectives. Determine if the trial is evaluating a new treatment, comparing treatments, or studying a specific aspect of a disease. Make sure the trial aligns with your needs and goals.\n",
      "\n",
      "3. Phase of the Trial: Clinical trials are conducted in different phases, each serving a specific purpose. Phase 1 trials focus on safety and dosage, Phase 2 trials evaluate effectiveness, and Phase 3 trials compare the new treatment to standard treatments. Consider which phase is appropriate for your situation.\n",
      "\n",
      "4. Location: Trials are conducted at specific medical centers or research institutions. Consider the location and whether you are willing and able to travel to the trial site for regular visits.\n",
      "\n",
      "5. Time Commitment: Clinical trials require a time commitment, including regular visits, tests, and follow-ups. Consider whether you can commit to the required time and schedule.\n",
      "\n",
      "6. Risks and Benefits: Understand the potential risks and benefits associated with the trial. Discuss these with your healthcare provider to make an informed decision.\n",
      "\n",
      "7. Informed Consent: Before participating in a trial, you will be asked to provide informed consent. Take the time to read and understand the consent form, ask questions, and ensure you are comfortable with the information provided.\n",
      "\n",
      "8. Insurance Coverage and Costs: Determine if the trial covers the costs of the experimental treatment, tests, and procedures. Check if your insurance will cover any additional costs associated with the trial.\n",
      "\n",
      "9. Support and Resources: Consider the support and resources available to you during the trial. This may include access to a study coordinator, support groups, or additional medical care.\n",
      "\n",
      "10. Discuss with Healthcare Provider: It is important to discuss your interest in participating in a clinical trial with your healthcare provider. They can provide guidance, assess your eligibility, and help you make an informed decision.\n",
      "\n",
      "Remember, each clinical trial is unique, and it is essential to carefully evaluate the trial's details and consult with healthcare professionals to determine if it is the right option for you."
     ]
    }
   ],
   "source": [
    "res = agent_executor({\"input\": \"what are some considerations to keep in mind when searching for a trial?\"})['output']"
   ]
  },
  {
   "cell_type": "code",
   "execution_count": 37,
   "metadata": {},
   "outputs": [
    {
     "name": "stdout",
     "output_type": "stream",
     "text": [
      "I apologize, but I couldn't find specific clinical trial information related to nose conditions. The search results I obtained appear to be related to a pre-screening process for potential research volunteers and participants at the UCI Center for Clinical Research. It seems to be a questionnaire to determine eligibility for various studies.\n",
      "\n",
      "To find clinical trials specifically related to nose conditions, I recommend using online clinical trial databases such as ClinicalTrials.gov or consulting with healthcare professionals who may have access to relevant trials and studies."
     ]
    }
   ],
   "source": [
    "res = agent_executor({\"input\": \"trials related to the nose\"})['output']"
   ]
  },
  {
   "cell_type": "code",
   "execution_count": 44,
   "metadata": {},
   "outputs": [
    {
     "name": "stdout",
     "output_type": "stream",
     "text": [
      "Here are some clinical trials related to the throat:\n",
      "\n",
      "1. Title: A Phase Ib, First-In-Human, Dose Escalation and Expansion, Multicenter Study of XMT-1660 in Participants with Solid Tumors\n",
      "   - Description: A study of XMT-1660 in solid tumors.\n",
      "   - Phase: Ib\n",
      "   - Treatment Type: Treatment\n",
      "   - Disease Sites: Lip, Oral Cavity and Pharynx, Colon, Pancreas, Larynx, Soft Tissue, Corpus Uteri, Stomach, Lung, Rectum, Anus, Other Digestive Organ, Ovary, Brain and Nervous System, Other Respiratory and Intrathoracic Organs, Other Urinary, Bones and Joints, Other Male Genital, Thyroid, Unknown Sites, Ill-Defined Sites, Melanoma, Skin, Liver, Other Skin, Kidney, Breast, Esophagus, Small Intestine, Cervix, Other Female Genital, Prostate, Urinary Bladder, Eye and Orbit, Other Endocrine System\n",
      "   - Sponsor: Mersana Therapeutics, Inc.\n",
      "\n",
      "2. Title: Tailor RT: A Randomized Trial of Regional Radiotherapy in Biomarker Low Risk Node Positive and T3N0 Breast Cancer\n",
      "   - Description: A study comparing the effects of regional radiation therapy in biomarker low risk node positive and T3N0 breast cancer.\n",
      "   - Phase: III\n",
      "   - Treatment Type: Treatment\n",
      "   - Disease Sites: Breast\n",
      "   - Sponsor: Canadian Cancer Trials Group (CCTG)\n",
      "\n",
      "3. Title: An Open-Label Phase II Study to Investigate the Efficacy, Safety, and Pharmacokinetics of Tirabrutinib in Patients with Primary Central Nervous System Lymphoma (PCNSL)\n",
      "   - Description: A study evaluating the efficacy, safety, and pharmacokinetics of tirabrutinib in patients with primary central nervous system lymphoma.\n",
      "   - Phase: II\n",
      "   - Treatment Type: Treatment\n",
      "   - Disease Sites: Brain and Nervous System\n",
      "   - Sponsor: ONO Pharmaceutical Co., Ltd.\n",
      "\n",
      "4. Title: Randomized Phase II and Phase III Studies of Individualized Treatment for Nasopharyngeal Carcinoma Based on Biomarker Epstein Barr Virus (EBV) Deoxyribonucleic Acid (DNA)\n",
      "   - Description: A study investigating individualized treatment for nasopharyngeal carcinoma based on the biomarker EBV DNA.\n",
      "   - Phase: II/III\n",
      "   - Treatment Type: Treatment\n",
      "   - Disease Sites: Lip, Oral Cavity and Pharynx\n",
      "   - Sponsor: Radiation Therapy Oncology Group, NRG Oncology\n",
      "\n",
      "Please note that"
     ]
    }
   ],
   "source": [
    "res = agent_executor({\"input\": \"give me some trials for the throat\"})['output']"
   ]
  },
  {
   "cell_type": "code",
   "execution_count": 41,
   "metadata": {},
   "outputs": [
    {
     "name": "stdout",
     "output_type": "stream",
     "text": [
      "Here are the pre-screening questions for Study 1, taking into account the eligibility criteria:\n",
      "\n",
      "1. Have you received any Mustang Bio CAR-T cell product in a Mustang Bio-sponsored clinical study?\n",
      "\n",
      "2. Are you a Medicare beneficiary with Medicare as your primary insurance?\n",
      "\n",
      "3. Do you meet the clinical criteria for Mild Cognitive Impairment (MCI) or Dementia as defined by the 2018 National Institute on Aging - Alzheimer's Association Research Framework?\n",
      "\n",
      "4. Have you had a brain MRI and/or CT within the last 24 months?\n",
      "\n",
      "5. Have you had a clinical laboratory assessment (complete blood count [CBC], standard blood chemistry profile, thyroid stimulating hormone [TSH], vitamin B12) within the last 12 months?\n",
      "\n",
      "6. Are you able to tolerate amyloid PET required by the protocol, to be performed at a participating PET facility?\n",
      "\n",
      "7. Are you English or Spanish speaking for the purposes of informed consent?\n",
      "\n",
      "8. Are you willing and able to provide consent? Consent may be by proxy.\n",
      "\n",
      "9. Can your neuropsychiatric syndrome be classified into \"clinically typical\" or \"clinically atypical\" categories?\n",
      "\n",
      "10. Do you have normal cognition or subjective complaints that are not verified by cognitive testing or key informant?\n",
      "\n",
      "11. Does knowledge of amyloid status, in the opinion of the referring dementia expert, may cause significant psychological harm or otherwise negatively impact you or your family?\n",
      "\n",
      "12. Do you already know your amyloid status based on prior amyloid imaging or cerebrospinal fluid analysis?\n",
      "\n",
      "13. Are you currently enrolled in an anti-amyloid therapeutic trial?\n",
      "\n",
      "14. Is the scan being ordered solely based on a family history of dementia, presence of apolipoprotein E (ApoE) 4, or in lieu of genotyping for suspected autosomal mutation carriers?\n",
      "\n",
      "15. Is the scan being ordered for nonmedical purposes (e.g., legal, insurance coverage, or employment screening)?\n",
      "\n",
      "16. Do you have cancer requiring active therapy (excluding non-melanoma skin cancer)?\n",
      "\n",
      "17. Have you had a hip/pelvic fracture within the last 12 months?\n",
      "\n",
      "18. Does your body weight exceed the PET scanner weight limit?\n",
      "\n",
      "19. Are you currently pregnant or planning to become pregnant within 90 days of registration?\n",
      "\n",
      "20. Is your life expectancy less than 24 months based on medical co-morbidities?\n",
      "\n",
      "21. Do you reside in a skilled nursing facility (assisted living facility is not an exclusion criterion)?\n",
      "\n",
      "Please note that these questions are based on the eligibility criteria provided for Study 1. It is important to consult the official study documentation for the most accurate and up-to-date information."
     ]
    }
   ],
   "source": [
    "res = agent_executor({\"input\": \"generate pre-screening questions for study 1 that takes the trial's eligibility criteria into account\"})['output']"
   ]
  },
  {
   "cell_type": "code",
   "execution_count": 65,
   "metadata": {},
   "outputs": [],
   "source": [
    "from langchain.agents.agent_toolkits import (\n",
    "    create_vectorstore_agent,\n",
    "    VectorStoreToolkit,\n",
    "    VectorStoreInfo,\n",
    ")\n",
    "\n",
    "vectorstore_info = VectorStoreInfo(\n",
    "    name=\"clinical_trials\",\n",
    "    description=\"search the clinical trials DB and return relevant answers\",\n",
    "    vectorstore=trials_search\n",
    "    \n",
    ")\n",
    "toolkit = VectorStoreToolkit(vectorstore_info=vectorstore_info)\n",
    "agent_executor = create_vectorstore_agent(llm= llm, toolkit=toolkit, handle_parsing_errors=True)"
   ]
  },
  {
   "cell_type": "code",
   "execution_count": 67,
   "metadata": {},
   "outputs": [
    {
     "name": "stdout",
     "output_type": "stream",
     "text": [
      "I should use the clinical_trials tool to search for trials related to heart disease."
     ]
    },
    {
     "ename": "OutputParserException",
     "evalue": "Could not parse LLM output: `I should use the clinical_trials tool to search for trials related to heart disease.`",
     "output_type": "error",
     "traceback": [
      "\u001b[0;31m---------------------------------------------------------------------------\u001b[0m",
      "\u001b[0;31mOutputParserException\u001b[0m                     Traceback (most recent call last)",
      "\u001b[1;32m/media/user/FC36DD3A36DCF71C/UCI/Coursework/OIT/clinical-trial-matching/clinical_trials_v2.ipynb Cell 15\u001b[0m line \u001b[0;36m1\n\u001b[0;32m----> <a href='vscode-notebook-cell:/media/user/FC36DD3A36DCF71C/UCI/Coursework/OIT/clinical-trial-matching/clinical_trials_v2.ipynb#X21sZmlsZQ%3D%3D?line=0'>1</a>\u001b[0m agent_executor\u001b[39m.\u001b[39;49mrun(\u001b[39m\"\u001b[39;49m\u001b[39mgive me the names of the trials for heart disease\u001b[39;49m\u001b[39m\"\u001b[39;49m)\n",
      "File \u001b[0;32m~/miniconda3/lib/python3.11/site-packages/langchain/chains/base.py:507\u001b[0m, in \u001b[0;36mChain.run\u001b[0;34m(self, callbacks, tags, metadata, *args, **kwargs)\u001b[0m\n\u001b[1;32m    505\u001b[0m     \u001b[39mif\u001b[39;00m \u001b[39mlen\u001b[39m(args) \u001b[39m!=\u001b[39m \u001b[39m1\u001b[39m:\n\u001b[1;32m    506\u001b[0m         \u001b[39mraise\u001b[39;00m \u001b[39mValueError\u001b[39;00m(\u001b[39m\"\u001b[39m\u001b[39m`run` supports only one positional argument.\u001b[39m\u001b[39m\"\u001b[39m)\n\u001b[0;32m--> 507\u001b[0m     \u001b[39mreturn\u001b[39;00m \u001b[39mself\u001b[39;49m(args[\u001b[39m0\u001b[39;49m], callbacks\u001b[39m=\u001b[39;49mcallbacks, tags\u001b[39m=\u001b[39;49mtags, metadata\u001b[39m=\u001b[39;49mmetadata)[\n\u001b[1;32m    508\u001b[0m         _output_key\n\u001b[1;32m    509\u001b[0m     ]\n\u001b[1;32m    511\u001b[0m \u001b[39mif\u001b[39;00m kwargs \u001b[39mand\u001b[39;00m \u001b[39mnot\u001b[39;00m args:\n\u001b[1;32m    512\u001b[0m     \u001b[39mreturn\u001b[39;00m \u001b[39mself\u001b[39m(kwargs, callbacks\u001b[39m=\u001b[39mcallbacks, tags\u001b[39m=\u001b[39mtags, metadata\u001b[39m=\u001b[39mmetadata)[\n\u001b[1;32m    513\u001b[0m         _output_key\n\u001b[1;32m    514\u001b[0m     ]\n",
      "File \u001b[0;32m~/miniconda3/lib/python3.11/site-packages/langchain/chains/base.py:312\u001b[0m, in \u001b[0;36mChain.__call__\u001b[0;34m(self, inputs, return_only_outputs, callbacks, tags, metadata, run_name, include_run_info)\u001b[0m\n\u001b[1;32m    310\u001b[0m \u001b[39mexcept\u001b[39;00m \u001b[39mBaseException\u001b[39;00m \u001b[39mas\u001b[39;00m e:\n\u001b[1;32m    311\u001b[0m     run_manager\u001b[39m.\u001b[39mon_chain_error(e)\n\u001b[0;32m--> 312\u001b[0m     \u001b[39mraise\u001b[39;00m e\n\u001b[1;32m    313\u001b[0m run_manager\u001b[39m.\u001b[39mon_chain_end(outputs)\n\u001b[1;32m    314\u001b[0m final_outputs: Dict[\u001b[39mstr\u001b[39m, Any] \u001b[39m=\u001b[39m \u001b[39mself\u001b[39m\u001b[39m.\u001b[39mprep_outputs(\n\u001b[1;32m    315\u001b[0m     inputs, outputs, return_only_outputs\n\u001b[1;32m    316\u001b[0m )\n",
      "File \u001b[0;32m~/miniconda3/lib/python3.11/site-packages/langchain/chains/base.py:306\u001b[0m, in \u001b[0;36mChain.__call__\u001b[0;34m(self, inputs, return_only_outputs, callbacks, tags, metadata, run_name, include_run_info)\u001b[0m\n\u001b[1;32m    299\u001b[0m run_manager \u001b[39m=\u001b[39m callback_manager\u001b[39m.\u001b[39mon_chain_start(\n\u001b[1;32m    300\u001b[0m     dumpd(\u001b[39mself\u001b[39m),\n\u001b[1;32m    301\u001b[0m     inputs,\n\u001b[1;32m    302\u001b[0m     name\u001b[39m=\u001b[39mrun_name,\n\u001b[1;32m    303\u001b[0m )\n\u001b[1;32m    304\u001b[0m \u001b[39mtry\u001b[39;00m:\n\u001b[1;32m    305\u001b[0m     outputs \u001b[39m=\u001b[39m (\n\u001b[0;32m--> 306\u001b[0m         \u001b[39mself\u001b[39;49m\u001b[39m.\u001b[39;49m_call(inputs, run_manager\u001b[39m=\u001b[39;49mrun_manager)\n\u001b[1;32m    307\u001b[0m         \u001b[39mif\u001b[39;00m new_arg_supported\n\u001b[1;32m    308\u001b[0m         \u001b[39melse\u001b[39;00m \u001b[39mself\u001b[39m\u001b[39m.\u001b[39m_call(inputs)\n\u001b[1;32m    309\u001b[0m     )\n\u001b[1;32m    310\u001b[0m \u001b[39mexcept\u001b[39;00m \u001b[39mBaseException\u001b[39;00m \u001b[39mas\u001b[39;00m e:\n\u001b[1;32m    311\u001b[0m     run_manager\u001b[39m.\u001b[39mon_chain_error(e)\n",
      "File \u001b[0;32m~/miniconda3/lib/python3.11/site-packages/langchain/agents/agent.py:1127\u001b[0m, in \u001b[0;36mAgentExecutor._call\u001b[0;34m(self, inputs, run_manager)\u001b[0m\n\u001b[1;32m   1125\u001b[0m \u001b[39m# We now enter the agent loop (until it returns something).\u001b[39;00m\n\u001b[1;32m   1126\u001b[0m \u001b[39mwhile\u001b[39;00m \u001b[39mself\u001b[39m\u001b[39m.\u001b[39m_should_continue(iterations, time_elapsed):\n\u001b[0;32m-> 1127\u001b[0m     next_step_output \u001b[39m=\u001b[39m \u001b[39mself\u001b[39;49m\u001b[39m.\u001b[39;49m_take_next_step(\n\u001b[1;32m   1128\u001b[0m         name_to_tool_map,\n\u001b[1;32m   1129\u001b[0m         color_mapping,\n\u001b[1;32m   1130\u001b[0m         inputs,\n\u001b[1;32m   1131\u001b[0m         intermediate_steps,\n\u001b[1;32m   1132\u001b[0m         run_manager\u001b[39m=\u001b[39;49mrun_manager,\n\u001b[1;32m   1133\u001b[0m     )\n\u001b[1;32m   1134\u001b[0m     \u001b[39mif\u001b[39;00m \u001b[39misinstance\u001b[39m(next_step_output, AgentFinish):\n\u001b[1;32m   1135\u001b[0m         \u001b[39mreturn\u001b[39;00m \u001b[39mself\u001b[39m\u001b[39m.\u001b[39m_return(\n\u001b[1;32m   1136\u001b[0m             next_step_output, intermediate_steps, run_manager\u001b[39m=\u001b[39mrun_manager\n\u001b[1;32m   1137\u001b[0m         )\n",
      "File \u001b[0;32m~/miniconda3/lib/python3.11/site-packages/langchain/agents/agent.py:935\u001b[0m, in \u001b[0;36mAgentExecutor._take_next_step\u001b[0;34m(self, name_to_tool_map, color_mapping, inputs, intermediate_steps, run_manager)\u001b[0m\n\u001b[1;32m    933\u001b[0m     raise_error \u001b[39m=\u001b[39m \u001b[39mFalse\u001b[39;00m\n\u001b[1;32m    934\u001b[0m \u001b[39mif\u001b[39;00m raise_error:\n\u001b[0;32m--> 935\u001b[0m     \u001b[39mraise\u001b[39;00m e\n\u001b[1;32m    936\u001b[0m text \u001b[39m=\u001b[39m \u001b[39mstr\u001b[39m(e)\n\u001b[1;32m    937\u001b[0m \u001b[39mif\u001b[39;00m \u001b[39misinstance\u001b[39m(\u001b[39mself\u001b[39m\u001b[39m.\u001b[39mhandle_parsing_errors, \u001b[39mbool\u001b[39m):\n",
      "File \u001b[0;32m~/miniconda3/lib/python3.11/site-packages/langchain/agents/agent.py:924\u001b[0m, in \u001b[0;36mAgentExecutor._take_next_step\u001b[0;34m(self, name_to_tool_map, color_mapping, inputs, intermediate_steps, run_manager)\u001b[0m\n\u001b[1;32m    921\u001b[0m     intermediate_steps \u001b[39m=\u001b[39m \u001b[39mself\u001b[39m\u001b[39m.\u001b[39m_prepare_intermediate_steps(intermediate_steps)\n\u001b[1;32m    923\u001b[0m     \u001b[39m# Call the LLM to see what to do.\u001b[39;00m\n\u001b[0;32m--> 924\u001b[0m     output \u001b[39m=\u001b[39m \u001b[39mself\u001b[39;49m\u001b[39m.\u001b[39;49magent\u001b[39m.\u001b[39;49mplan(\n\u001b[1;32m    925\u001b[0m         intermediate_steps,\n\u001b[1;32m    926\u001b[0m         callbacks\u001b[39m=\u001b[39;49mrun_manager\u001b[39m.\u001b[39;49mget_child() \u001b[39mif\u001b[39;49;00m run_manager \u001b[39melse\u001b[39;49;00m \u001b[39mNone\u001b[39;49;00m,\n\u001b[1;32m    927\u001b[0m         \u001b[39m*\u001b[39;49m\u001b[39m*\u001b[39;49minputs,\n\u001b[1;32m    928\u001b[0m     )\n\u001b[1;32m    929\u001b[0m \u001b[39mexcept\u001b[39;00m OutputParserException \u001b[39mas\u001b[39;00m e:\n\u001b[1;32m    930\u001b[0m     \u001b[39mif\u001b[39;00m \u001b[39misinstance\u001b[39m(\u001b[39mself\u001b[39m\u001b[39m.\u001b[39mhandle_parsing_errors, \u001b[39mbool\u001b[39m):\n",
      "File \u001b[0;32m~/miniconda3/lib/python3.11/site-packages/langchain/agents/agent.py:537\u001b[0m, in \u001b[0;36mAgent.plan\u001b[0;34m(self, intermediate_steps, callbacks, **kwargs)\u001b[0m\n\u001b[1;32m    535\u001b[0m full_inputs \u001b[39m=\u001b[39m \u001b[39mself\u001b[39m\u001b[39m.\u001b[39mget_full_inputs(intermediate_steps, \u001b[39m*\u001b[39m\u001b[39m*\u001b[39mkwargs)\n\u001b[1;32m    536\u001b[0m full_output \u001b[39m=\u001b[39m \u001b[39mself\u001b[39m\u001b[39m.\u001b[39mllm_chain\u001b[39m.\u001b[39mpredict(callbacks\u001b[39m=\u001b[39mcallbacks, \u001b[39m*\u001b[39m\u001b[39m*\u001b[39mfull_inputs)\n\u001b[0;32m--> 537\u001b[0m \u001b[39mreturn\u001b[39;00m \u001b[39mself\u001b[39;49m\u001b[39m.\u001b[39;49moutput_parser\u001b[39m.\u001b[39;49mparse(full_output)\n",
      "File \u001b[0;32m~/miniconda3/lib/python3.11/site-packages/langchain/agents/mrkl/output_parser.py:52\u001b[0m, in \u001b[0;36mMRKLOutputParser.parse\u001b[0;34m(self, text)\u001b[0m\n\u001b[1;32m     47\u001b[0m     \u001b[39mreturn\u001b[39;00m AgentFinish(\n\u001b[1;32m     48\u001b[0m         {\u001b[39m\"\u001b[39m\u001b[39moutput\u001b[39m\u001b[39m\"\u001b[39m: text\u001b[39m.\u001b[39msplit(FINAL_ANSWER_ACTION)[\u001b[39m-\u001b[39m\u001b[39m1\u001b[39m]\u001b[39m.\u001b[39mstrip()}, text\n\u001b[1;32m     49\u001b[0m     )\n\u001b[1;32m     51\u001b[0m \u001b[39mif\u001b[39;00m \u001b[39mnot\u001b[39;00m re\u001b[39m.\u001b[39msearch(\u001b[39mr\u001b[39m\u001b[39m\"\u001b[39m\u001b[39mAction\u001b[39m\u001b[39m\\\u001b[39m\u001b[39ms*\u001b[39m\u001b[39m\\\u001b[39m\u001b[39md*\u001b[39m\u001b[39m\\\u001b[39m\u001b[39ms*:[\u001b[39m\u001b[39m\\\u001b[39m\u001b[39ms]*(.*?)\u001b[39m\u001b[39m\"\u001b[39m, text, re\u001b[39m.\u001b[39mDOTALL):\n\u001b[0;32m---> 52\u001b[0m     \u001b[39mraise\u001b[39;00m OutputParserException(\n\u001b[1;32m     53\u001b[0m         \u001b[39mf\u001b[39m\u001b[39m\"\u001b[39m\u001b[39mCould not parse LLM output: `\u001b[39m\u001b[39m{\u001b[39;00mtext\u001b[39m}\u001b[39;00m\u001b[39m`\u001b[39m\u001b[39m\"\u001b[39m,\n\u001b[1;32m     54\u001b[0m         observation\u001b[39m=\u001b[39mMISSING_ACTION_AFTER_THOUGHT_ERROR_MESSAGE,\n\u001b[1;32m     55\u001b[0m         llm_output\u001b[39m=\u001b[39mtext,\n\u001b[1;32m     56\u001b[0m         send_to_llm\u001b[39m=\u001b[39m\u001b[39mTrue\u001b[39;00m,\n\u001b[1;32m     57\u001b[0m     )\n\u001b[1;32m     58\u001b[0m \u001b[39melif\u001b[39;00m \u001b[39mnot\u001b[39;00m re\u001b[39m.\u001b[39msearch(\n\u001b[1;32m     59\u001b[0m     \u001b[39mr\u001b[39m\u001b[39m\"\u001b[39m\u001b[39m[\u001b[39m\u001b[39m\\\u001b[39m\u001b[39ms]*Action\u001b[39m\u001b[39m\\\u001b[39m\u001b[39ms*\u001b[39m\u001b[39m\\\u001b[39m\u001b[39md*\u001b[39m\u001b[39m\\\u001b[39m\u001b[39ms*Input\u001b[39m\u001b[39m\\\u001b[39m\u001b[39ms*\u001b[39m\u001b[39m\\\u001b[39m\u001b[39md*\u001b[39m\u001b[39m\\\u001b[39m\u001b[39ms*:[\u001b[39m\u001b[39m\\\u001b[39m\u001b[39ms]*(.*)\u001b[39m\u001b[39m\"\u001b[39m, text, re\u001b[39m.\u001b[39mDOTALL\n\u001b[1;32m     60\u001b[0m ):\n\u001b[1;32m     61\u001b[0m     \u001b[39mraise\u001b[39;00m OutputParserException(\n\u001b[1;32m     62\u001b[0m         \u001b[39mf\u001b[39m\u001b[39m\"\u001b[39m\u001b[39mCould not parse LLM output: `\u001b[39m\u001b[39m{\u001b[39;00mtext\u001b[39m}\u001b[39;00m\u001b[39m`\u001b[39m\u001b[39m\"\u001b[39m,\n\u001b[1;32m     63\u001b[0m         observation\u001b[39m=\u001b[39mMISSING_ACTION_INPUT_AFTER_ACTION_ERROR_MESSAGE,\n\u001b[1;32m     64\u001b[0m         llm_output\u001b[39m=\u001b[39mtext,\n\u001b[1;32m     65\u001b[0m         send_to_llm\u001b[39m=\u001b[39m\u001b[39mTrue\u001b[39;00m,\n\u001b[1;32m     66\u001b[0m     )\n",
      "\u001b[0;31mOutputParserException\u001b[0m: Could not parse LLM output: `I should use the clinical_trials tool to search for trials related to heart disease.`"
     ]
    }
   ],
   "source": [
    "agent_executor.run(\"give me the names of the trials for heart disease\")"
   ]
  },
  {
   "cell_type": "code",
   "execution_count": null,
   "metadata": {},
   "outputs": [],
   "source": []
  }
 ],
 "metadata": {
  "kernelspec": {
   "display_name": "base",
   "language": "python",
   "name": "python3"
  },
  "language_info": {
   "codemirror_mode": {
    "name": "ipython",
    "version": 3
   },
   "file_extension": ".py",
   "mimetype": "text/x-python",
   "name": "python",
   "nbconvert_exporter": "python",
   "pygments_lexer": "ipython3",
   "version": "3.11.4"
  }
 },
 "nbformat": 4,
 "nbformat_minor": 2
}
